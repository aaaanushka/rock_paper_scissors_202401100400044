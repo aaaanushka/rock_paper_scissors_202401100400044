{
  "nbformat": 4,
  "nbformat_minor": 0,
  "metadata": {
    "colab": {
      "provenance": []
    },
    "kernelspec": {
      "name": "python3",
      "display_name": "Python 3"
    },
    "language_info": {
      "name": "python"
    }
  },
  "cells": [
    {
      "cell_type": "code",
      "source": [
        "import random  # Import the random module to generate AI's choice\n",
        "\n",
        "def get_user_choice():\n",
        "    \"\"\"Get the player's choice of rock, paper, or scissors.\"\"\"\n",
        "    print(\"Enter your choice (rock, paper, or scissors):\")  # Prompt the user to enter their choice\n",
        "    user_choice = input().lower()  # Take input from the user and convert it to lowercase for consistency\n",
        "\n",
        "    # Loop to ensure the user enters a valid choice\n",
        "    while user_choice not in [\"rock\", \"paper\", \"scissors\"]:\n",
        "        print(\"Invalid choice. Please choose rock, paper, or scissors:\")  # Inform the user of an invalid choice\n",
        "        user_choice = input().lower()  # Take the input again and convert it to lowercase\n",
        "\n",
        "    return user_choice  # Return the valid user choice\n",
        "\n",
        "\n",
        "\n"
      ],
      "metadata": {
        "id": "YqW4plQnRSi_"
      },
      "execution_count": null,
      "outputs": []
    },
    {
      "cell_type": "code",
      "source": [
        "def get_ai_choice():\n",
        "    \"\"\"AI randomly selects between rock, paper, or scissors.\"\"\"  # Function docstring explaining its purpose\n",
        "    return random.choice([\"rock\", \"paper\", \"scissors\"])  # AI randomly selects one option from the list\n"
      ],
      "metadata": {
        "id": "tuJdveZxRZ7h"
      },
      "execution_count": null,
      "outputs": []
    },
    {
      "cell_type": "code",
      "source": [
        "def determine_winner(user_choice, ai_choice):\n",
        "    \"\"\"Determine the winner of the game.\"\"\"\n",
        "    if user_choice == ai_choice:\n",
        "        return \"It's a tie!\"\n",
        "    elif (user_choice == \"rock\" and ai_choice == \"scissors\") or \\\n",
        "         (user_choice == \"paper\" and ai_choice == \"rock\") or \\\n",
        "         (user_choice == \"scissors\" and ai_choice == \"paper\"):\n",
        "        return \"You win!\"\n",
        "    else:\n",
        "        return \"AI wins!\"\n"
      ],
      "metadata": {
        "id": "CmzrCZUwUx7i"
      },
      "execution_count": null,
      "outputs": []
    },
    {
      "cell_type": "code",
      "source": [
        "def determine_winner(user_choice, ai_choice):\n",
        "    \"\"\"Determine the winner of the game.\"\"\"  # Function docstring explaining its purpose\n",
        "\n",
        "    if user_choice == ai_choice:  # Check if both choices are the same\n",
        "        return \"It's a tie!\"  # If so, it's a tie\n",
        "\n",
        "    # Check all conditions where the user wins\n",
        "    elif(user_choice == \"rock\" and ai_choice == \"scissors\") or\\\n",
        "        (user_choice == \"paper\" and ai_choice == \"rock\") or\\\n",
        "        (user_choice == \"scissors\" and ai_choice == \"paper\"):\n",
        "        return \"You win!\"  # Return a win message for the user\n",
        "\n",
        "    else:  # If none of the above conditions are met, AI wins\n",
        "        return \"AI wins!\"  # Return a win message for the AI\n",
        "\n"
      ],
      "metadata": {
        "id": "jrJ3zSGDU6XD"
      },
      "execution_count": 9,
      "outputs": []
    },
    {
      "cell_type": "code",
      "source": [
        "if _name_ == \"_main_\":\n",
        "  play_game() # Call the main function to start the game"
      ],
      "metadata": {
        "colab": {
          "base_uri": "https://localhost:8080/"
        },
        "id": "bJasFjn7Xmw6",
        "outputId": "fd7632aa-8a5a-44d9-fa43-96dd268246e0"
      },
      "execution_count": null,
      "outputs": [
        {
          "output_type": "stream",
          "name": "stdout",
          "text": [
            "Welcome to Rock-Paper-Scissors!\n",
            "Choose rock, paper, or scissors (or 'quit' to exit): rock\n",
            "AI chose: scissors\n",
            "You win!\n",
            "Choose rock, paper, or scissors (or 'quit' to exit): rock\n",
            "AI chose: rock\n",
            "It's a tie!\n",
            "Choose rock, paper, or scissors (or 'quit' to exit): paper\n",
            "AI chose: rock\n",
            "You win!\n"
          ]
        }
      ]
    }
  ]
}